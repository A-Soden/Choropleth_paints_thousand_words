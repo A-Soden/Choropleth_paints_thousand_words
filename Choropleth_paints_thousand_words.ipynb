{
 "cells": [
  {
   "cell_type": "markdown",
   "metadata": {},
   "source": [
    "## Making Choropleth's for FAO Land use data"
   ]
  },
  {
   "cell_type": "markdown",
   "metadata": {},
   "source": [
    "### 1) Additional packages to import are geopandas and descartes. "
   ]
  },
  {
   "cell_type": "code",
   "execution_count": null,
   "metadata": {},
   "outputs": [],
   "source": [
    "import geopandas as gpd\n",
    "import numpy as np\n",
    "import pandas as pd\n",
    "import seaborn as sns\n",
    "import matplotlib.pyplot as plt\n",
    "import descartes\n",
    "pd.set_option('display.max_rows',500, 'display.max_columns', None)\n",
    "%matplotlib inline"
   ]
  },
  {
   "cell_type": "markdown",
   "metadata": {},
   "source": [
    "### 2) Import world map shapefile"
   ]
  },
  {
   "cell_type": "code",
   "execution_count": null,
   "metadata": {},
   "outputs": [],
   "source": [
    "shapefile = 'ne_110m_admin_0_countries_lakes-Copy1.shp'"
   ]
  },
  {
   "cell_type": "code",
   "execution_count": null,
   "metadata": {},
   "outputs": [],
   "source": [
    "world_gdf = gpd.read_file(shapefile)[['ADMIN','NAME','geometry']]\n",
    "world_gdf.head()"
   ]
  },
  {
   "cell_type": "code",
   "execution_count": null,
   "metadata": {},
   "outputs": [],
   "source": [
    "world_gdf.columns = ['Country','Country_short','geometry']\n",
    "world_gdf.head(2)"
   ]
  },
  {
   "cell_type": "code",
   "execution_count": null,
   "metadata": {},
   "outputs": [],
   "source": [
    "world_gdf.plot()\n",
    "plt.show()"
   ]
  },
  {
   "cell_type": "code",
   "execution_count": null,
   "metadata": {},
   "outputs": [],
   "source": [
    "world_gdf.info()"
   ]
  },
  {
   "cell_type": "markdown",
   "metadata": {},
   "source": [
    "#### 2.1) Remove Antarctica"
   ]
  },
  {
   "cell_type": "code",
   "execution_count": null,
   "metadata": {},
   "outputs": [],
   "source": [
    "print(world_gdf[world_gdf['Country']=='Antarctica'])"
   ]
  },
  {
   "cell_type": "code",
   "execution_count": null,
   "metadata": {},
   "outputs": [],
   "source": [
    "world_gdf = world_gdf.drop(world_gdf.index[159])"
   ]
  },
  {
   "cell_type": "code",
   "execution_count": null,
   "metadata": {},
   "outputs": [],
   "source": [
    "world_gdf.plot();"
   ]
  },
  {
   "cell_type": "markdown",
   "metadata": {},
   "source": [
    "### 3) Import countries_land_use.csv file saved from the Jupyter notebook EDA of Land use FAO data_blog"
   ]
  },
  {
   "cell_type": "code",
   "execution_count": null,
   "metadata": {},
   "outputs": [],
   "source": [
    "countries_land_use = pd.read_csv('countries_land_use.csv')"
   ]
  },
  {
   "cell_type": "code",
   "execution_count": null,
   "metadata": {
    "scrolled": true
   },
   "outputs": [],
   "source": [
    "countries_land_use.head(3)"
   ]
  },
  {
   "cell_type": "markdown",
   "metadata": {},
   "source": [
    "#### 3.1) Rename countries to world_gdf names"
   ]
  },
  {
   "cell_type": "code",
   "execution_count": null,
   "metadata": {
    "scrolled": true
   },
   "outputs": [],
   "source": [
    "countries_land_use['Country'].unique()"
   ]
  },
  {
   "cell_type": "code",
   "execution_count": null,
   "metadata": {},
   "outputs": [],
   "source": [
    "world_country_names = world_gdf['Country'].to_list()"
   ]
  },
  {
   "cell_type": "code",
   "execution_count": null,
   "metadata": {},
   "outputs": [],
   "source": [
    "world_country_names.sort()\n",
    "world_country_names"
   ]
  },
  {
   "cell_type": "code",
   "execution_count": null,
   "metadata": {},
   "outputs": [],
   "source": [
    "rename_map = {'Bolivia (Plurinational State of)':'Bolivia','Brunei Darussalam':'Brunei',\n",
    "              'Falkland Islands (Malvinas)':'Falkland Islands','Iran (Islamic Republic of)':'Iran',\n",
    "              'Lao People''s Democratic Republic':'Laos','Democratic People''s Republic of Korea':'North Korea',\n",
    "              'Republic of Korea':'South Korea','Serbia':'Republic of Serbia','Sudan(former)':'Sudan',\n",
    "              'Syrian Arab Republic':'Syria','Timor-Leste':'East Timor','USSR':'Russia','Russian Federation':'Russia',\n",
    "              'Venezuela (Bolivarian Republic of)':'Venezuela','Viet Nam':'Vietnam'}"
   ]
  },
  {
   "cell_type": "code",
   "execution_count": null,
   "metadata": {},
   "outputs": [],
   "source": [
    "countries_land_use['Country']=countries_land_use['Country'].map(rename_map).fillna(countries_land_use['Country'])"
   ]
  },
  {
   "cell_type": "markdown",
   "metadata": {},
   "source": [
    "#### 3.2) Create subset of DataFrame for arable land use"
   ]
  },
  {
   "cell_type": "code",
   "execution_count": null,
   "metadata": {},
   "outputs": [],
   "source": [
    "arable = countries_land_use[countries_land_use['Land_use']=='Arable land']"
   ]
  },
  {
   "cell_type": "code",
   "execution_count": null,
   "metadata": {},
   "outputs": [],
   "source": [
    "Rus = (arable[arable['Country']== 'Russia'])\n",
    "Rus"
   ]
  },
  {
   "cell_type": "code",
   "execution_count": null,
   "metadata": {},
   "outputs": [],
   "source": [
    "Rus_sum = Rus.sum(skipna=True)\n",
    "Rus_DF = pd.DataFrame(Rus_sum)\n",
    "Rus_DF = Rus_DF.T\n",
    "Rus_DF['Country'] = Rus_DF['Country'].replace({'RussiaRussia':'Russia'})\n",
    "Rus_DF['Land_use'] = Rus_DF['Land_use'].replace({'Arable landArable land': 'Arable land'})\n",
    "Rus_DF['Element'] = Rus_DF['Element'].replace({'AreaArea':'Area'})\n",
    "Rus_DF"
   ]
  },
  {
   "cell_type": "code",
   "execution_count": null,
   "metadata": {},
   "outputs": [],
   "source": [
    "arable = arable.drop([3901,4962])"
   ]
  },
  {
   "cell_type": "code",
   "execution_count": null,
   "metadata": {},
   "outputs": [],
   "source": [
    "arable = arable.append(Rus_DF, ignore_index=True)\n",
    "arable.tail()"
   ]
  },
  {
   "cell_type": "code",
   "execution_count": null,
   "metadata": {
    "scrolled": true
   },
   "outputs": [],
   "source": [
    "arable['Country'].value_counts()"
   ]
  },
  {
   "cell_type": "markdown",
   "metadata": {},
   "source": [
    "### 4) Merge world GeoDataFrame and Arable DataFrame\n",
    "Create a GeoDataFrame that contains both polygon geometry and land use data"
   ]
  },
  {
   "cell_type": "code",
   "execution_count": null,
   "metadata": {},
   "outputs": [],
   "source": [
    "arable_gdf = world_gdf.merge(arable, on='Country', how='outer')"
   ]
  },
  {
   "cell_type": "code",
   "execution_count": null,
   "metadata": {},
   "outputs": [],
   "source": [
    "type(arable_gdf)"
   ]
  },
  {
   "cell_type": "code",
   "execution_count": null,
   "metadata": {
    "scrolled": true
   },
   "outputs": [],
   "source": [
    "arable_gdf"
   ]
  },
  {
   "cell_type": "markdown",
   "metadata": {},
   "source": [
    "#### 4.1) Fill NaN with zero\n",
    "Country rows with NaN will not appear on the map"
   ]
  },
  {
   "cell_type": "code",
   "execution_count": null,
   "metadata": {},
   "outputs": [],
   "source": [
    "arable_gdf.loc[:,'1961':'2017'] = arable_gdf.loc[:,'1961':'2017'].fillna(0)"
   ]
  },
  {
   "cell_type": "code",
   "execution_count": null,
   "metadata": {},
   "outputs": [],
   "source": [
    "arable_gdf"
   ]
  },
  {
   "cell_type": "markdown",
   "metadata": {},
   "source": [
    "### 5) Plot Choropleth"
   ]
  },
  {
   "cell_type": "code",
   "execution_count": null,
   "metadata": {},
   "outputs": [],
   "source": [
    "plt.rcParams['figure.figsize'] = [20, 10]\n",
    "arable_gdf.plot(column = '2017', cmap = 'Oranges', edgecolor = 'gray', legend=True)\n",
    "plt.show()"
   ]
  },
  {
   "cell_type": "markdown",
   "metadata": {},
   "source": [
    "#### 5.1) Customise the plot and colorbar\n",
    "To customize the plot and colorbar define the plot axes as ax and the legend axes as cax, then pass these to the .plot() function. The below example uses the mpl_toolkits make_axes_locatable function to vertically align the plot and legend axes. "
   ]
  },
  {
   "cell_type": "code",
   "execution_count": null,
   "metadata": {
    "scrolled": true
   },
   "outputs": [],
   "source": [
    "from mpl_toolkits.axes_grid1 import make_axes_locatable\n",
    "\n",
    "fig, ax = plt.subplots(1, 1, figsize=(20,10))\n",
    "\n",
    "divider = make_axes_locatable(ax)\n",
    "cax = divider.append_axes(\"right\", size=\"5%\", pad=0.1)\n",
    "\n",
    "arable_gdf.plot(column = '2017', ax=ax, legend=True, cax=cax, cmap = 'Oranges', edgecolor = 'gray', linewidth=0.5)\n",
    "\n",
    "ax.set_title('Hectares used for arable land, 2017', fontsize=20)\n",
    "cax.set_title('Hectares', fontsize=14);"
   ]
  },
  {
   "cell_type": "code",
   "execution_count": null,
   "metadata": {},
   "outputs": [],
   "source": [
    "#plt.rcParams(['figure.figsize'] = [90, 90], 'fontsize' = 20)"
   ]
  },
  {
   "cell_type": "markdown",
   "metadata": {},
   "source": [
    "### Repeat for Permanent Meadows and Pastures"
   ]
  },
  {
   "cell_type": "code",
   "execution_count": null,
   "metadata": {},
   "outputs": [],
   "source": [
    "perm_meadows = countries_land_use[countries_land_use['Land_use']=='Land under perm. meadows and pastures']"
   ]
  },
  {
   "cell_type": "code",
   "execution_count": null,
   "metadata": {},
   "outputs": [],
   "source": [
    "Rus2 = (perm_meadows[perm_meadows['Country']== 'Russia'])\n",
    "Rus2"
   ]
  },
  {
   "cell_type": "code",
   "execution_count": null,
   "metadata": {},
   "outputs": [],
   "source": [
    "Rus2_sum = Rus2.sum(skipna=True)\n",
    "Rus2_DF = pd.DataFrame(Rus2_sum)\n",
    "Rus2_DF = Rus2_DF.T\n",
    "Rus2_DF['Country'] = Rus2_DF['Country'].replace({'RussiaRussia':'Russia'})\n",
    "Rus2_DF['Land_use'] = Rus2_DF['Land_use'].replace({'Land under perm. meadows and pasturesLand under perm. meadows and pastures': 'Land under perm. meadows and pastures'})\n",
    "Rus2_DF['Element'] = Rus2_DF['Element'].replace({'AreaArea':'Area'})\n",
    "Rus2_DF"
   ]
  },
  {
   "cell_type": "code",
   "execution_count": null,
   "metadata": {},
   "outputs": [],
   "source": [
    "perm_meadows = perm_meadows.drop([3904,4964])\n",
    "perm_meadows = perm_meadows.append(Rus2_DF, ignore_index=True)\n",
    "perm_meadows.tail()"
   ]
  },
  {
   "cell_type": "code",
   "execution_count": null,
   "metadata": {
    "scrolled": true
   },
   "outputs": [],
   "source": [
    "perm_meadows['Country'].value_counts()"
   ]
  },
  {
   "cell_type": "code",
   "execution_count": null,
   "metadata": {},
   "outputs": [],
   "source": [
    "perm_meadows_gdf = world_gdf.merge(perm_meadows, on='Country', how='outer')"
   ]
  },
  {
   "cell_type": "code",
   "execution_count": null,
   "metadata": {},
   "outputs": [],
   "source": [
    "type(perm_meadows_gdf)"
   ]
  },
  {
   "cell_type": "code",
   "execution_count": null,
   "metadata": {
    "scrolled": true
   },
   "outputs": [],
   "source": [
    "perm_meadows_gdf"
   ]
  },
  {
   "cell_type": "code",
   "execution_count": null,
   "metadata": {},
   "outputs": [],
   "source": [
    "perm_meadows_gdf.loc[:,'1961':'2017'] = perm_meadows_gdf.loc[:,'1961':'2017'].fillna(0)"
   ]
  },
  {
   "cell_type": "code",
   "execution_count": null,
   "metadata": {
    "scrolled": false
   },
   "outputs": [],
   "source": [
    "from mpl_toolkits.axes_grid1 import make_axes_locatable\n",
    "\n",
    "fig, ax = plt.subplots(1, 1, figsize=(20,10))\n",
    "\n",
    "divider = make_axes_locatable(ax)\n",
    "cax = divider.append_axes(\"right\", size=\"5%\", pad=0.1)\n",
    "\n",
    "perm_meadows_gdf.plot(column = '2017', ax=ax, legend=True, cax=cax, cmap = 'Greens', edgecolor = 'gray', linewidth=0.5)\n",
    "\n",
    "ax.set_title('Hectares used for permanent meadows & pasture land, 2017', fontsize=20)\n",
    "cax.set_title('Hectares', fontsize=14);\n",
    "\n",
    "plt.show()"
   ]
  },
  {
   "cell_type": "code",
   "execution_count": null,
   "metadata": {},
   "outputs": [],
   "source": [
    "#plt.rcParams(['figure.figsize'] = [90, 90], 'fontsize' = 20)"
   ]
  },
  {
   "cell_type": "code",
   "execution_count": null,
   "metadata": {
    "scrolled": true
   },
   "outputs": [],
   "source": [
    "fig, ax = plt.subplots(1,1)\n",
    "\n",
    "perm_meadows_gdf.plot(column = '2017', ax=ax, legend=True, \n",
    "                      legend_kwds={'pad': 0.02,\n",
    "                                   'label':\"Permanent meadows & pastures (ha)\",\n",
    "                                   'orientation':\"horizontal\"},\n",
    "                      cmap = 'Greens', edgecolor = 'gray')\n",
    "\n",
    "#plt.xticks(fontsize=200)\n"
   ]
  },
  {
   "cell_type": "markdown",
   "metadata": {},
   "source": [
    "### 6) Choropleth showing change in hectares in use since 1961"
   ]
  },
  {
   "cell_type": "markdown",
   "metadata": {},
   "source": [
    "Make a copy of arable_gdf as I don't want to change the original."
   ]
  },
  {
   "cell_type": "code",
   "execution_count": null,
   "metadata": {},
   "outputs": [],
   "source": [
    "arable_gdf_diff = arable_gdf"
   ]
  },
  {
   "cell_type": "markdown",
   "metadata": {},
   "source": [
    "Create a column to contain the values for the calculation 2017 hectares - 1961 hectares, to see how hectares in use have changed since 1961."
   ]
  },
  {
   "cell_type": "code",
   "execution_count": null,
   "metadata": {},
   "outputs": [],
   "source": [
    "arable_gdf_diff['2017-1961'] = arable_gdf_diff['2017'] - arable_gdf_diff['1961']"
   ]
  },
  {
   "cell_type": "code",
   "execution_count": null,
   "metadata": {},
   "outputs": [],
   "source": [
    "arable_gdf_diff"
   ]
  },
  {
   "cell_type": "markdown",
   "metadata": {},
   "source": [
    "#### 6.1) Normalise the colorbar\n",
    "By default any colorbar applied in matplotlib will diverge from the midpoint between the max and min values of the plotted column e.g. 1000 to -4500. This is not very useful when using divering colormaps to show positive and negative values as the plot below shows. The zero point is represented by blue and some negative values are also blue, when what we want is the colourmap to diverge from zero, the grey midpoint color, positive values to be blue and negative values to be red.  "
   ]
  },
  {
   "cell_type": "code",
   "execution_count": null,
   "metadata": {},
   "outputs": [],
   "source": [
    "from mpl_toolkits.axes_grid1 import make_axes_locatable\n",
    "import matplotlib.colors as colors\n",
    "\n",
    "fig, ax = plt.subplots(1, 1, figsize=(20,10))\n",
    "\n",
    "divider = make_axes_locatable(ax)\n",
    "cax = divider.append_axes(\"right\", size=\"5%\", pad=0.1)\n",
    "\n",
    "arable_gdf_diff.plot(column = '2017-1961', ax=ax, legend=True, cax=cax, cmap = 'coolwarm_r', edgecolor = 'gray', linewidth=0.5)\n",
    "# _r reverses the colormap so red represents negative values\n",
    "\n",
    "ax.set_title('Change in hectares used for Arable land between 1961 and 2017', fontsize=20)\n",
    "cax.set_title('Hectares', fontsize=14);"
   ]
  },
  {
   "cell_type": "markdown",
   "metadata": {},
   "source": [
    "#### 6.2) Rest color midpoint to zero, DivergingNorm Function\n",
    "Normalise the colormap around the zero centerpoint by using the DivergingNorm function in Matplotlib as shown below. The resulting choropleth is a much clearer representation of how land use has changed between 1961 and 2017."
   ]
  },
  {
   "cell_type": "code",
   "execution_count": null,
   "metadata": {},
   "outputs": [],
   "source": [
    "from mpl_toolkits.axes_grid1 import make_axes_locatable\n",
    "import matplotlib.colors as colors\n",
    "\n",
    "fig, ax = plt.subplots(1, 1, figsize=(20,10))\n",
    "\n",
    "divider = make_axes_locatable(ax)\n",
    "cax = divider.append_axes(\"right\", size=\"5%\", pad=0.1)\n",
    "\n",
    "#normalise the colormap around zero\n",
    "vmin, vmax, vcenter = arable_gdf_diff['2017-1961'].min(), arable_gdf_diff['2017-1961'].max(), 0\n",
    "divnorm = colors.DivergingNorm(vmin=vmin, vcenter=vcenter, vmax=vmax)\n",
    "\n",
    "\n",
    "arable_gdf_diff.plot(column = '2017-1961', ax=ax, legend=True, cax=cax, cmap = 'coolwarm_r', norm=divnorm, edgecolor = 'gray', \n",
    "                     linewidth=0.5)\n",
    "# _r reverses the colormap so red represents negative values\n",
    "\n",
    "ax.set_title('Change in hectares used for Arable land between 1961 and 2017', fontsize=20)\n",
    "cax.set_title('Hectares', fontsize=14);"
   ]
  },
  {
   "cell_type": "code",
   "execution_count": null,
   "metadata": {},
   "outputs": [],
   "source": [
    "perm_meadows_gdf_diff = perm_meadows_gdf\n",
    "perm_meadows_gdf_diff['2017-1961'] = perm_meadows_gdf_diff['2017'] - perm_meadows_gdf_diff['1961']\n",
    "perm_meadows_gdf_diff"
   ]
  },
  {
   "cell_type": "code",
   "execution_count": null,
   "metadata": {},
   "outputs": [],
   "source": [
    "from mpl_toolkits.axes_grid1 import make_axes_locatable\n",
    "\n",
    "fig, ax = plt.subplots(1, 1, figsize=(20,10))\n",
    "\n",
    "divider = make_axes_locatable(ax)\n",
    "cax = divider.append_axes(\"right\", size=\"5%\", pad=0.1)\n",
    "\n",
    "vmin, vmax, vcenter = perm_meadows_gdf_diff['2017-1961'].min(), perm_meadows_gdf_diff['2017-1961'].max(), 0\n",
    "divnorm = colors.DivergingNorm(vmin=vmin, vcenter=vcenter, vmax=vmax)\n",
    "\n",
    "perm_meadows_gdf_diff.plot(column = '2017-1961', ax=ax, legend=True, cax=cax, cmap = 'coolwarm_r', norm=divnorm, edgecolor = 'gray', linewidth=0.5)\n",
    "\n",
    "ax.set_title('Change in hectares used for Permanent meadows & pasture land between 1961 and 2017', fontsize=20)\n",
    "cax.set_title('Hectares', fontsize=14);"
   ]
  },
  {
   "cell_type": "code",
   "execution_count": null,
   "metadata": {},
   "outputs": [],
   "source": []
  }
 ],
 "metadata": {
  "kernelspec": {
   "display_name": "Python 3",
   "language": "python",
   "name": "python3"
  },
  "language_info": {
   "codemirror_mode": {
    "name": "ipython",
    "version": 3
   },
   "file_extension": ".py",
   "mimetype": "text/x-python",
   "name": "python",
   "nbconvert_exporter": "python",
   "pygments_lexer": "ipython3",
   "version": "3.7.7"
  }
 },
 "nbformat": 4,
 "nbformat_minor": 4
}
